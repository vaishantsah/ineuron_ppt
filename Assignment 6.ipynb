{
 "cells": [
  {
   "cell_type": "markdown",
   "metadata": {},
   "source": [
    "## **Question 1**\n",
    "\n",
    "A permutation perm of n + 1 integers of all the integers in the range [0, n] can be represented as a string s of length n where:\n",
    "\n",
    "- s[i] == 'I' if perm[i] < perm[i + 1], and\n",
    "- s[i] == 'D' if perm[i] > perm[i + 1].\n",
    "\n",
    "Given a string s, reconstruct the permutation perm and return it. If there are multiple valid permutations perm, return **any of them**.\n",
    "\n",
    "**Example 1:**\n",
    "\n",
    "**Input:** s = \"IDID\"\n",
    "\n",
    "**Output:**\n",
    "\n",
    "[0,4,1,3,2]"
   ]
  },
  {
   "cell_type": "code",
   "execution_count": 1,
   "metadata": {},
   "outputs": [
    {
     "name": "stdout",
     "output_type": "stream",
     "text": [
      "[0, 4, 1, 3, 2]\n"
     ]
    }
   ],
   "source": [
    "def reconstruct_permutation(s):\n",
    "    n = len(s)\n",
    "    perm = list(range(n + 1))\n",
    "    result = []\n",
    "\n",
    "    start, end = 0, n\n",
    "\n",
    "    for ch in s:\n",
    "        if ch == 'I':\n",
    "            result.append(perm[start])\n",
    "            start += 1\n",
    "        else:\n",
    "            result.append(perm[end])\n",
    "            end -= 1\n",
    "\n",
    "    result.append(perm[start])\n",
    "\n",
    "    return result\n",
    "\n",
    "s = \"IDID\"\n",
    "print(reconstruct_permutation(s))"
   ]
  },
  {
   "cell_type": "markdown",
   "metadata": {},
   "source": [
    "## **Question 2**\n",
    "\n",
    "You are given an m x n integer matrix matrix with the following two properties:\n",
    "\n",
    "- Each row is sorted in non-decreasing order.\n",
    "- The first integer of each row is greater than the last integer of the previous row.\n",
    "\n",
    "Given an integer target, return true *if* target *is in* matrix *or* false *otherwise*.\n",
    "\n",
    "You must write a solution in O(log(m * n)) time complexity.\n",
    "Example 1:\n",
    "\n",
    "**Input:** matrix = [[1,3,5,7],[10,11,16,20],[23,30,34,60]], target = 3\n",
    "\n",
    "**Output:** true"
   ]
  },
  {
   "cell_type": "code",
   "execution_count": 2,
   "metadata": {},
   "outputs": [
    {
     "name": "stdout",
     "output_type": "stream",
     "text": [
      "True\n"
     ]
    }
   ],
   "source": [
    "def search_matrix(matrix, target):\n",
    "    m, n = len(matrix), len(matrix[0])\n",
    "    start, end = 0, m * n - 1\n",
    "\n",
    "    while start <= end:\n",
    "        mid = (start + end) // 2\n",
    "        row, col = mid // n, mid % n\n",
    "        mid_val = matrix[row][col]\n",
    "\n",
    "        if mid_val == target:\n",
    "            return True\n",
    "        elif mid_val > target:\n",
    "            end = mid - 1\n",
    "        else:\n",
    "            start = mid + 1\n",
    "\n",
    "    return False\n",
    "\n",
    "matrix = [[1, 3, 5, 7], [10, 11, 16, 20], [23, 30, 34, 60]]\n",
    "target = 3\n",
    "print(search_matrix(matrix, target))"
   ]
  },
  {
   "cell_type": "markdown",
   "metadata": {},
   "source": [
    "## **Question 3**\n",
    "\n",
    "Given an array of integers arr, return *true if and only if it is a valid mountain array*.\n",
    "\n",
    "Recall that arr is a mountain array if and only if:\n",
    "\n",
    "- arr.length >= 3\n",
    "- There exists some i with 0 < i < arr.length - 1 such that:\n",
    "    - arr[0] < arr[1] < ... < arr[i - 1] < arr[i]\n",
    "    - arr[i] > arr[i + 1] > ... > arr[arr.length - 1]\n",
    "\n",
    "**Example 1:**\n",
    "\n",
    "**Input:** arr = [2,1]\n",
    "\n",
    "**Output:**\n",
    "\n",
    "false"
   ]
  },
  {
   "cell_type": "code",
   "execution_count": 3,
   "metadata": {},
   "outputs": [
    {
     "name": "stdout",
     "output_type": "stream",
     "text": [
      "False\n"
     ]
    }
   ],
   "source": [
    "def valid_mountain_array(arr):\n",
    "    n = len(arr)\n",
    "    if n < 3:\n",
    "        return False\n",
    "\n",
    "    i = 0\n",
    "    while i + 1 < n and arr[i] < arr[i + 1]:\n",
    "        i += 1\n",
    "\n",
    "    if i == 0 or i == n - 1:\n",
    "        return False\n",
    "\n",
    "    while i + 1 < n and arr[i] > arr[i + 1]:\n",
    "        i += 1\n",
    "\n",
    "    return i == n - 1\n",
    "\n",
    "arr = [2, 1]\n",
    "print(valid_mountain_array(arr))"
   ]
  },
  {
   "cell_type": "markdown",
   "metadata": {},
   "source": [
    "## **Question 4**\n",
    "\n",
    "Given a binary array nums, return *the maximum length of a contiguous subarray with an equal number of* 0 *and* 1.\n",
    "\n",
    "**Example 1:**\n",
    "\n",
    "**Input:** nums = [0,1]\n",
    "\n",
    "**Output:** 2\n",
    "\n",
    "**Explanation:**\n",
    "\n",
    "[0, 1] is the longest contiguous subarray with an equal number of 0 and 1."
   ]
  },
  {
   "cell_type": "code",
   "execution_count": 4,
   "metadata": {},
   "outputs": [
    {
     "name": "stdout",
     "output_type": "stream",
     "text": [
      "2\n"
     ]
    }
   ],
   "source": [
    "def find_max_length(nums):\n",
    "    max_length = 0\n",
    "    prefix_sum_dict = {0: -1}\n",
    "    prefix_sum = 0\n",
    "\n",
    "    for i, num in enumerate(nums):\n",
    "        if num == 1:\n",
    "            prefix_sum += 1\n",
    "        else:\n",
    "            prefix_sum -= 1\n",
    "\n",
    "        if prefix_sum in prefix_sum_dict:\n",
    "            max_length = max(max_length, i - prefix_sum_dict[prefix_sum])\n",
    "        else:\n",
    "            prefix_sum_dict[prefix_sum] = i\n",
    "\n",
    "    return max_length\n",
    "\n",
    "# Example usage:\n",
    "nums = [0, 1]\n",
    "print(find_max_length(nums))"
   ]
  },
  {
   "cell_type": "markdown",
   "metadata": {},
   "source": [
    "## Question 5\n",
    "The **product sum** of two equal-length arrays a and b is equal to the sum of a[i] * b[i] for all 0 <= i < a.length (**0-indexed**).\n",
    "\n",
    "- For example, if a = [1,2,3,4] and b = [5,2,3,1], the **product sum** would be 1*5 + 2*2 + 3*3 + 4*1 = 22.\n",
    "\n",
    "Given two arrays nums1 and nums2 of length n, return *the **minimum product sum** if you are allowed to **rearrange** the **order** of the elements in* nums1.\n",
    "\n",
    "**Example 1:**\n",
    "\n",
    "**Input:** nums1 = [5,3,4,2], nums2 = [4,2,2,5]\n",
    "\n",
    "**Output:** 40\n",
    "\n",
    "**Explanation:**\n",
    "\n",
    "We can rearrange nums1 to become [3,5,4,2]. The product sum of [3,5,4,2] and [4,2,2,5] is 3*4 + 5*2 + 4*2 + 2*5 = 40."
   ]
  },
  {
   "cell_type": "code",
   "execution_count": 5,
   "metadata": {},
   "outputs": [
    {
     "name": "stdout",
     "output_type": "stream",
     "text": [
      "40\n"
     ]
    }
   ],
   "source": [
    "def min_product_sum(nums1, nums2):\n",
    "    nums1.sort()\n",
    "    nums2.sort(reverse=True)\n",
    "\n",
    "    product_sum = sum(a * b for a, b in zip(nums1, nums2))\n",
    "\n",
    "    return product_sum\n",
    "\n",
    "nums1 = [5, 3, 4, 2]\n",
    "nums2 = [4, 2, 2, 5]\n",
    "print(min_product_sum(nums1, nums2))"
   ]
  },
  {
   "cell_type": "markdown",
   "metadata": {},
   "source": [
    "## Question 6\n",
    "An integer array original is transformed into a **doubled** array changed by appending **twice the value** of every element in original, and then randomly **shuffling** the resulting array.\n",
    "\n",
    "Given an array changed, return original *if* changed *is a **doubled** array. If* changed *is not a **doubled** array, return an empty array. The elements in* original *may be returned in **any** order*.\n",
    "\n",
    "**Example 1:**\n",
    "\n",
    "**Input:** changed = [1,3,4,2,6,8]\n",
    "\n",
    "**Output:** [1,3,4]\n",
    "\n",
    "**Explanation:** One possible original array could be [1,3,4]:\n",
    "\n",
    "- Twice the value of 1 is 1 * 2 = 2.\n",
    "- Twice the value of 3 is 3 * 2 = 6.\n",
    "- Twice the value of 4 is 4 * 2 = 8.\n",
    "\n",
    "Other original arrays could be [4,3,1] or [3,1,4]."
   ]
  },
  {
   "cell_type": "code",
   "execution_count": 7,
   "metadata": {},
   "outputs": [
    {
     "name": "stdout",
     "output_type": "stream",
     "text": [
      "[]\n"
     ]
    }
   ],
   "source": [
    "def find_original_array(changed):\n",
    "    if len(changed) % 2 != 0:\n",
    "        return []  # If the length of 'changed' is odd, it can't be a valid original array\n",
    "\n",
    "    original = sorted([x // 2 for x in changed])  # Divide each element by 2 and sort the resulting array\n",
    "\n",
    "    # Check if the original array is sorted in ascending order\n",
    "    for i in range(1, len(original)):\n",
    "        if original[i] <= original[i - 1]:\n",
    "            return []  # If the original array is not sorted, it is not a valid original array\n",
    "\n",
    "    return original\n",
    "\n",
    "changed = [1, 3, 4, 2, 6, 8]\n",
    "print(find_original_array(changed))"
   ]
  },
  {
   "cell_type": "markdown",
   "metadata": {},
   "source": [
    "## Question 7\n",
    "Given a positive integer n, generate an n x n matrix filled with elements from 1 to n2 in spiral order.\n",
    "\n",
    "**Example 1:**\n",
    "**Input:** n = 3\n",
    "\n",
    "**Output:** [[1,2,3],[8,9,4],[7,6,5]]"
   ]
  },
  {
   "cell_type": "code",
   "execution_count": 8,
   "metadata": {},
   "outputs": [
    {
     "name": "stdout",
     "output_type": "stream",
     "text": [
      "[[1, 2, 3], [8, 9, 4], [7, 6, 5]]\n"
     ]
    }
   ],
   "source": [
    "def generate_spiral_matrix(n):\n",
    "    matrix = [[0] * n for _ in range(n)]\n",
    "    directions = [(0, 1), (1, 0), (0, -1), (-1, 0)]\n",
    "    direction_idx = 0\n",
    "    row, col = 0, 0\n",
    "\n",
    "    for num in range(1, n**2 + 1):\n",
    "        matrix[row][col] = num\n",
    "\n",
    "        # Check the next position in the current direction\n",
    "        next_row = row + directions[direction_idx][0]\n",
    "        next_col = col + directions[direction_idx][1]\n",
    "\n",
    "        # If the next position is out of bounds or already filled, change direction\n",
    "        if next_row < 0 or next_row >= n or next_col < 0 or next_col >= n or matrix[next_row][next_col] != 0:\n",
    "            direction_idx = (direction_idx + 1) % 4  # Change direction (right -> down -> left -> up)\n",
    "\n",
    "        # Move to the next position in the current direction\n",
    "        row += directions[direction_idx][0]\n",
    "        col += directions[direction_idx][1]\n",
    "\n",
    "    return matrix\n",
    "\n",
    "n = 3\n",
    "result = generate_spiral_matrix(n)\n",
    "print(result)"
   ]
  },
  {
   "cell_type": "markdown",
   "metadata": {},
   "source": [
    "## Question 8\n",
    "Given two [sparse matrices](https://en.wikipedia.org/wiki/Sparse_matrix) mat1 of size m x k and mat2 of size k x n, return the result of mat1 x mat2. You may assume that multiplication is always possible.\n",
    "\n",
    "**Example 1:**\n",
    "**Input:** mat1 = [[1,0,0],[-1,0,3]], mat2 = [[7,0,0],[0,0,0],[0,0,1]]\n",
    "\n",
    "**Output:**\n",
    "\n",
    "[[7,0,0],[-7,0,3]]"
   ]
  },
  {
   "cell_type": "code",
   "execution_count": 9,
   "metadata": {},
   "outputs": [
    {
     "name": "stdout",
     "output_type": "stream",
     "text": [
      "[[7, 0, 0], [-7, 0, 3]]\n"
     ]
    }
   ],
   "source": [
    "def multiply_sparse_matrices(mat1, mat2):\n",
    "    m, k = len(mat1), len(mat1[0])\n",
    "    k2, n = len(mat2), len(mat2[0])\n",
    "\n",
    "    # Initialize the result matrix with zeros\n",
    "    result = [[0] * n for _ in range(m)]\n",
    "\n",
    "    # Create a dictionary to store the non-zero elements of mat1\n",
    "    sparse_mat1 = {}\n",
    "    for i in range(m):\n",
    "        for j in range(k):\n",
    "            if mat1[i][j] != 0:\n",
    "                sparse_mat1[(i, j)] = mat1[i][j]\n",
    "\n",
    "    # Perform matrix multiplication\n",
    "    for i in range(m):\n",
    "        for j in range(n):\n",
    "            for x in range(k):\n",
    "                if (i, x) in sparse_mat1 and mat2[x][j] != 0:\n",
    "                    result[i][j] += sparse_mat1[(i, x)] * mat2[x][j]\n",
    "\n",
    "    return result\n",
    "\n",
    "mat1 = [[1, 0, 0], [-1, 0, 3]]\n",
    "mat2 = [[7, 0, 0], [0, 0, 0], [0, 0, 1]]\n",
    "result = multiply_sparse_matrices(mat1, mat2)\n",
    "print(result)"
   ]
  },
  {
   "cell_type": "code",
   "execution_count": null,
   "metadata": {},
   "outputs": [],
   "source": []
  }
 ],
 "metadata": {
  "kernelspec": {
   "display_name": "Python 3",
   "language": "python",
   "name": "python3"
  },
  "language_info": {
   "codemirror_mode": {
    "name": "ipython",
    "version": 3
   },
   "file_extension": ".py",
   "mimetype": "text/x-python",
   "name": "python",
   "nbconvert_exporter": "python",
   "pygments_lexer": "ipython3",
   "version": "3.8.5"
  }
 },
 "nbformat": 4,
 "nbformat_minor": 4
}
