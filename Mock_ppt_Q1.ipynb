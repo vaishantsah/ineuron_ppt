{
 "cells": [
  {
   "cell_type": "code",
   "execution_count": 1,
   "id": "31e3dc3b-af0d-4698-abc6-4dbeac181607",
   "metadata": {},
   "outputs": [
    {
     "name": "stdout",
     "output_type": "stream",
     "text": [
      "2\n",
      "2\n"
     ]
    }
   ],
   "source": [
    "def mySqrt(x):\n",
    "    left = 0\n",
    "    right = x\n",
    "\n",
    "    while left <= right:\n",
    "        midpoint = (left + right) // 2\n",
    "        square = midpoint * midpoint\n",
    "\n",
    "        if square == x:\n",
    "            return midpoint\n",
    "        elif square < x:\n",
    "            left = midpoint + 1\n",
    "        else:\n",
    "            right = midpoint - 1\n",
    "\n",
    "    return right\n",
    "\n",
    "# Example usage:\n",
    "if __name__ == \"__main__\":\n",
    "    print(mySqrt(4))  # Output: 2\n",
    "    print(mySqrt(8))  # Output: 2"
   ]
  },
  {
   "cell_type": "code",
   "execution_count": null,
   "id": "0a4a17a5-b63e-4979-a99c-a3d30c51cc6f",
   "metadata": {},
   "outputs": [],
   "source": []
  }
 ],
 "metadata": {
  "kernelspec": {
   "display_name": "Python 3 (ipykernel)",
   "language": "python",
   "name": "python3"
  },
  "language_info": {
   "codemirror_mode": {
    "name": "ipython",
    "version": 3
   },
   "file_extension": ".py",
   "mimetype": "text/x-python",
   "name": "python",
   "nbconvert_exporter": "python",
   "pygments_lexer": "ipython3",
   "version": "3.10.6"
  }
 },
 "nbformat": 4,
 "nbformat_minor": 5
}
