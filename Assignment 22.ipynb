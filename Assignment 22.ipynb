{
 "cells": [
  {
   "cell_type": "markdown",
   "metadata": {},
   "source": [
    "## Question 1\n",
    "Given a Binary Tree (Bt), convert it to a Doubly Linked List(DLL). The left and right pointers in nodes are to be used as previous and next pointers respectively in converted DLL. The order of nodes in DLL must be the same as in Inorder for the given Binary Tree. The first node of Inorder traversal (leftmost node in BT) must be the head node of the DLL."
   ]
  },
  {
   "cell_type": "code",
   "execution_count": 1,
   "metadata": {},
   "outputs": [
    {
     "name": "stdout",
     "output_type": "stream",
     "text": [
      "5 -> 10 -> 15 -> 20 -> 30 \n"
     ]
    }
   ],
   "source": [
    "class Node:\n",
    "    def __init__(self, data):\n",
    "        self.data = data\n",
    "        self.left = None\n",
    "        self.right = None\n",
    "\n",
    "\n",
    "def binary_tree_to_dll(root):\n",
    "    if root is None:\n",
    "        return None\n",
    "\n",
    "    # Global variable to keep track of the previous node\n",
    "    global prev\n",
    "    prev = None\n",
    "\n",
    "    def convert_to_dll(node):\n",
    "        global prev\n",
    "        if node is None:\n",
    "            return\n",
    "\n",
    "        # Convert left subtree\n",
    "        convert_to_dll(node.left)\n",
    "\n",
    "        # Update left and right pointers of the current node\n",
    "        node.left = prev\n",
    "        if prev:\n",
    "            prev.right = node\n",
    "\n",
    "        # Update prev to the current node\n",
    "        prev = node\n",
    "\n",
    "        # Convert right subtree\n",
    "        convert_to_dll(node.right)\n",
    "\n",
    "    # Convert the binary tree to DLL\n",
    "    convert_to_dll(root)\n",
    "\n",
    "    # Find the head of the DLL (leftmost node)\n",
    "    head = root\n",
    "    while head and head.left:\n",
    "        head = head.left\n",
    "\n",
    "    return head\n",
    "\n",
    "\n",
    "def print_dll(head):\n",
    "    while head:\n",
    "        print(head.data, end=\" \")\n",
    "        if head.right:\n",
    "            print(\"->\", end=\" \")\n",
    "        head = head.right\n",
    "    print()\n",
    "\n",
    "\n",
    "# Constructing the binary tree\n",
    "root = Node(10)\n",
    "root.left = Node(5)\n",
    "root.right = Node(20)\n",
    "root.right.left = Node(15)\n",
    "root.right.right = Node(30)\n",
    "\n",
    "# Convert binary tree to DLL\n",
    "head = binary_tree_to_dll(root)\n",
    "\n",
    "# Print the DLL\n",
    "print_dll(head)\n"
   ]
  },
  {
   "cell_type": "markdown",
   "metadata": {},
   "source": [
    "## Question 2\n",
    "A Given a binary tree, the task is to flip the binary tree towards the right direction that is clockwise. See the below examples to see the transformation.\n",
    "\n",
    "In the flip operation, the leftmost node becomes the root of the flipped tree and its parent becomes its right child and the right sibling becomes its left child and the same should be done for all left most nodes recursively."
   ]
  },
  {
   "cell_type": "code",
   "execution_count": 3,
   "metadata": {},
   "outputs": [
    {
     "name": "stdout",
     "output_type": "stream",
     "text": [
      "Original Tree (Inorder Traversal):\n",
      "4 2 5 1 3 \n",
      "Flipped Tree (Inorder Traversal):\n",
      "3 1 5 2 4 "
     ]
    }
   ],
   "source": [
    "class Node:\n",
    "    def __init__(self, data):\n",
    "        self.data = data\n",
    "        self.left = None\n",
    "        self.right = None\n",
    "\n",
    "\n",
    "def flip_binary_tree(node):\n",
    "    if node is None or (node.left is None and node.right is None):\n",
    "        # Base case: If node is None or leaf node, return the node itself\n",
    "        return node\n",
    "\n",
    "    # Flip the left and right subtrees recursively\n",
    "    flipped_left = flip_binary_tree(node.left)\n",
    "    flipped_right = flip_binary_tree(node.right)\n",
    "\n",
    "    # Update the pointers to flip the tree\n",
    "    node.left = flipped_right\n",
    "    node.right = flipped_left\n",
    "\n",
    "    return node\n",
    "\n",
    "\n",
    "def inorder_traversal(node):\n",
    "    if node:\n",
    "        inorder_traversal(node.left)\n",
    "        print(node.data, end=\" \")\n",
    "        inorder_traversal(node.right)\n",
    "\n",
    "\n",
    "# Constructing the binary tree\n",
    "root = Node(1)\n",
    "root.left = Node(2)\n",
    "root.right = Node(3)\n",
    "root.left.left = Node(4)\n",
    "root.left.right = Node(5)\n",
    "\n",
    "# Print the original tree\n",
    "print(\"Original Tree (Inorder Traversal):\")\n",
    "inorder_traversal(root)\n",
    "print()\n",
    "\n",
    "# Flip the binary tree clockwise\n",
    "flipped_root = flip_binary_tree(root)\n",
    "\n",
    "# Print the flipped tree\n",
    "print(\"Flipped Tree (Inorder Traversal):\")\n",
    "inorder_traversal(flipped_root)\n"
   ]
  },
  {
   "cell_type": "code",
   "execution_count": null,
   "metadata": {},
   "outputs": [],
   "source": []
  }
 ],
 "metadata": {
  "kernelspec": {
   "display_name": "Python 3",
   "language": "python",
   "name": "python3"
  },
  "language_info": {
   "codemirror_mode": {
    "name": "ipython",
    "version": 3
   },
   "file_extension": ".py",
   "mimetype": "text/x-python",
   "name": "python",
   "nbconvert_exporter": "python",
   "pygments_lexer": "ipython3",
   "version": "3.8.5"
  }
 },
 "nbformat": 4,
 "nbformat_minor": 4
}
